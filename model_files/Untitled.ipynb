{
 "cells": [
  {
   "cell_type": "code",
   "execution_count": null,
   "id": "11ec0aba-2639-4b64-bb65-209c8f38e395",
   "metadata": {},
   "outputs": [],
   "source": []
  }
 ],
 "metadata": {
  "kernelspec": {
   "display_name": "",
   "name": ""
  },
  "language_info": {
   "name": ""
  }
 },
 "nbformat": 4,
 "nbformat_minor": 5
}
